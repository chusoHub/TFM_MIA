{
  "nbformat": 4,
  "nbformat_minor": 0,
  "metadata": {
    "accelerator": "GPU",
    "colab": {
      "name": "keras_seq_adam_15_inferencia.ipynb",
      "provenance": [],
      "collapsed_sections": [],
      "toc_visible": true,
      "machine_shape": "hm"
    },
    "kernelspec": {
      "display_name": "Python 3",
      "name": "python3"
    }
  },
  "cells": [
    {
      "cell_type": "markdown",
      "metadata": {
        "id": "WBPHnx875MOQ"
      },
      "source": [
        "# Modelo Keras secuencial\n",
        "\n",
        "\n",
        "*   5 capas ocultas densas de 500, 1000, 1000, 2000, 2000 unidades\n",
        "*   Activación LeakyReLU(alpha=0.1)\n",
        "*   Loss MSLE\n",
        "*   Métrica MAE\n",
        "*   Adam Learning Rate 1e-6\n",
        "*   2000 epochs\n",
        "\n"
      ]
    },
    {
      "cell_type": "code",
      "metadata": {
        "id": "W5VZXB84Mgfl"
      },
      "source": [
        "import tensorflow as tf\n",
        "from tensorflow import keras\n",
        "from tensorflow.keras import layers\n",
        "from keras.layers import LeakyReLU\n",
        "import pandas as pd\n",
        "import numpy as np\n",
        "import seaborn as sns\n",
        "import matplotlib.pyplot as plt\n",
        "from matplotlib.ticker import LinearLocator, FormatStrFormatter\n",
        "from sklearn.model_selection import train_test_split\n",
        "from datetime import datetime\n",
        "\n",
        "PATH = r'/content/drive/My Drive/Colab Notebooks/'\n",
        "PATH_MODELS= r'/content/drive/My Drive/Colab Notebooks/models/'\n",
        "DATA_INPUT_FILE= r'data_h2o_HF_ccpvdz.csv'\n",
        "OUTPUT_FILES = r'seq_3cv32'"
      ],
      "execution_count": 2,
      "outputs": []
    },
    {
      "cell_type": "markdown",
      "metadata": {
        "id": "pkQduCSi2R3I"
      },
      "source": [
        "# Carga de datos\n",
        "17636 registros"
      ]
    },
    {
      "cell_type": "code",
      "metadata": {
        "colab": {
          "base_uri": "https://localhost:8080/",
          "height": 300
        },
        "id": "kAM-xdRL2bm2",
        "outputId": "86a59bcf-f41f-4394-9d60-a6721c6330c9"
      },
      "source": [
        "data= pd.read_csv(PATH + DATA_INPUT_FILE, index_col= 0)\n",
        "data.describe()"
      ],
      "execution_count": 5,
      "outputs": [
        {
          "output_type": "execute_result",
          "data": {
            "text/html": [
              "<div>\n",
              "<style scoped>\n",
              "    .dataframe tbody tr th:only-of-type {\n",
              "        vertical-align: middle;\n",
              "    }\n",
              "\n",
              "    .dataframe tbody tr th {\n",
              "        vertical-align: top;\n",
              "    }\n",
              "\n",
              "    .dataframe thead th {\n",
              "        text-align: right;\n",
              "    }\n",
              "</style>\n",
              "<table border=\"1\" class=\"dataframe\">\n",
              "  <thead>\n",
              "    <tr style=\"text-align: right;\">\n",
              "      <th></th>\n",
              "      <th>rh1</th>\n",
              "      <th>rh2</th>\n",
              "      <th>ang</th>\n",
              "      <th>energia</th>\n",
              "    </tr>\n",
              "  </thead>\n",
              "  <tbody>\n",
              "    <tr>\n",
              "      <th>count</th>\n",
              "      <td>17636.000000</td>\n",
              "      <td>17636.000000</td>\n",
              "      <td>17636.000000</td>\n",
              "      <td>17636.000000</td>\n",
              "    </tr>\n",
              "    <tr>\n",
              "      <th>mean</th>\n",
              "      <td>1.718462</td>\n",
              "      <td>1.718462</td>\n",
              "      <td>104.482706</td>\n",
              "      <td>-75.741635</td>\n",
              "    </tr>\n",
              "    <tr>\n",
              "      <th>std</th>\n",
              "      <td>0.465277</td>\n",
              "      <td>0.465277</td>\n",
              "      <td>4.329904</td>\n",
              "      <td>0.428579</td>\n",
              "    </tr>\n",
              "    <tr>\n",
              "      <th>min</th>\n",
              "      <td>0.800000</td>\n",
              "      <td>0.800000</td>\n",
              "      <td>94.500000</td>\n",
              "      <td>-76.027388</td>\n",
              "    </tr>\n",
              "    <tr>\n",
              "      <th>25%</th>\n",
              "      <td>1.400000</td>\n",
              "      <td>1.400000</td>\n",
              "      <td>102.500000</td>\n",
              "      <td>-75.992674</td>\n",
              "    </tr>\n",
              "    <tr>\n",
              "      <th>50%</th>\n",
              "      <td>1.708000</td>\n",
              "      <td>1.708000</td>\n",
              "      <td>104.500000</td>\n",
              "      <td>-75.924886</td>\n",
              "    </tr>\n",
              "    <tr>\n",
              "      <th>75%</th>\n",
              "      <td>2.025000</td>\n",
              "      <td>2.025000</td>\n",
              "      <td>106.500000</td>\n",
              "      <td>-75.722473</td>\n",
              "    </tr>\n",
              "    <tr>\n",
              "      <th>max</th>\n",
              "      <td>2.800000</td>\n",
              "      <td>2.800000</td>\n",
              "      <td>114.500000</td>\n",
              "      <td>-72.066162</td>\n",
              "    </tr>\n",
              "  </tbody>\n",
              "</table>\n",
              "</div>"
            ],
            "text/plain": [
              "                rh1           rh2           ang       energia\n",
              "count  17636.000000  17636.000000  17636.000000  17636.000000\n",
              "mean       1.718462      1.718462    104.482706    -75.741635\n",
              "std        0.465277      0.465277      4.329904      0.428579\n",
              "min        0.800000      0.800000     94.500000    -76.027388\n",
              "25%        1.400000      1.400000    102.500000    -75.992674\n",
              "50%        1.708000      1.708000    104.500000    -75.924886\n",
              "75%        2.025000      2.025000    106.500000    -75.722473\n",
              "max        2.800000      2.800000    114.500000    -72.066162"
            ]
          },
          "metadata": {
            "tags": []
          },
          "execution_count": 5
        }
      ]
    },
    {
      "cell_type": "markdown",
      "metadata": {
        "id": "P-7q7IsW07tq"
      },
      "source": [
        "# Transformación de las variables para el entrenamiento\n",
        "*   x_input: Se normalizan las variables predictoras\n",
        "*   y_input: Se le resta el mínimo a la variable objetivo\n"
      ]
    },
    {
      "cell_type": "code",
      "metadata": {
        "id": "mz-Mj3nwO2OS"
      },
      "source": [
        "#Se normalizan las variables predictoras\n",
        "x = data[['ang', 'rh1', 'rh2']].copy()\n",
        "x_describe= x.describe()\n",
        "x_stats = x_describe.transpose()\n",
        "x_input = (x - x_stats['mean']) / x_stats['std']\n",
        "\n",
        "# Se le resta el mínimo a la variable objetivo\n",
        "minimo=min(data['energia'])\n",
        "y_input = data['energia'].copy() -minimo\n"
      ],
      "execution_count": 6,
      "outputs": []
    },
    {
      "cell_type": "markdown",
      "metadata": {
        "id": "qzPHuDdk1tDX"
      },
      "source": [
        "# Creación de los conjuntos de train y validacción\n",
        "Conjunto de validación del 10%"
      ]
    },
    {
      "cell_type": "code",
      "metadata": {
        "id": "hsTAzkDx16Np"
      },
      "source": [
        "x_train, x_valid, y_train, y_valid = train_test_split(x_input, y_input , random_state = 33, test_size = 0.1)"
      ],
      "execution_count": 7,
      "outputs": []
    },
    {
      "cell_type": "markdown",
      "metadata": {
        "id": "Y4w77Yar2y84"
      },
      "source": [
        "# Definición de la arquitectura"
      ]
    },
    {
      "cell_type": "code",
      "metadata": {
        "colab": {
          "base_uri": "https://localhost:8080/"
        },
        "id": "ORUJs1y_O2dR",
        "outputId": "c73e0624-2214-4693-ff3e-2e54ac852ee0"
      },
      "source": [
        "#Modelo\n",
        "model = keras.Sequential([\n",
        "    layers.Dense(500, activation=LeakyReLU(alpha=0.1), input_shape=[len(x_train.keys())]),\n",
        "    layers.Dense(1000, activation=LeakyReLU(alpha=0.1)),\n",
        "    layers.Dense(1000, activation=LeakyReLU(alpha=0.1)),\n",
        "    layers.Dense(2000, activation=LeakyReLU(alpha=0.1)),\n",
        "    layers.Dense(2000, activation=LeakyReLU(alpha=0.1)),\n",
        "    layers.Dense(1)\n",
        "  ])\n",
        "\n",
        "#Optimizador \n",
        "optimizer = keras.optimizers.Adam(learning_rate=1e-6)\n",
        "\n",
        "model.compile( loss='mean_squared_logarithmic_error',\n",
        "                optimizer=optimizer,\n",
        "                metrics=['mae', 'mse'])\n",
        "model.summary()"
      ],
      "execution_count": null,
      "outputs": [
        {
          "output_type": "stream",
          "text": [
            "Model: \"sequential\"\n",
            "_________________________________________________________________\n",
            "Layer (type)                 Output Shape              Param #   \n",
            "=================================================================\n",
            "dense (Dense)                (None, 500)               2000      \n",
            "_________________________________________________________________\n",
            "dense_1 (Dense)              (None, 1000)              501000    \n",
            "_________________________________________________________________\n",
            "dense_2 (Dense)              (None, 1000)              1001000   \n",
            "_________________________________________________________________\n",
            "dense_3 (Dense)              (None, 2000)              2002000   \n",
            "_________________________________________________________________\n",
            "dense_4 (Dense)              (None, 2000)              4002000   \n",
            "_________________________________________________________________\n",
            "dense_5 (Dense)              (None, 1)                 2001      \n",
            "=================================================================\n",
            "Total params: 7,510,001\n",
            "Trainable params: 7,510,001\n",
            "Non-trainable params: 0\n",
            "_________________________________________________________________\n"
          ],
          "name": "stdout"
        }
      ]
    },
    {
      "cell_type": "markdown",
      "metadata": {
        "id": "B4Qzp75__xg0"
      },
      "source": [
        "# Callback"
      ]
    },
    {
      "cell_type": "code",
      "metadata": {
        "id": "DlZMrurm_zpC"
      },
      "source": [
        "#Se guarda el mejor modelo según la métrica de referencia MAE\n",
        "callback_mejor_modelo = tf.keras.callbacks.ModelCheckpoint(\n",
        "    filepath= PATH_MODELS + OUTPUT_FILES + r'_best.h5',\n",
        "    monitor='val_mae',\n",
        "    mode='min',\n",
        "    save_best_only=True)"
      ],
      "execution_count": null,
      "outputs": []
    },
    {
      "cell_type": "markdown",
      "metadata": {
        "id": "g8GdhrpT_2DC"
      },
      "source": [
        "# Entrenamiento"
      ]
    },
    {
      "cell_type": "code",
      "metadata": {
        "colab": {
          "base_uri": "https://localhost:8080/",
          "height": 225
        },
        "id": "zvhGg__yPjuc",
        "outputId": "6f8db0c5-f704-4f1b-823c-ece66349b11e"
      },
      "source": [
        "EPOCHS = 2000\n",
        "\n",
        "datetime_comienzo = datetime.now()\n",
        "\n",
        "#Entrenamiento\n",
        "history = model.fit(\n",
        "  x_train, y_train, verbose=0, \n",
        "  epochs=EPOCHS, validation_data=(x_valid, y_valid)\n",
        "  ,callbacks=[callback_mejor_modelo])\n",
        "\n",
        "datetime_fin = datetime.now()\n",
        "\n",
        "#Se guarda el modelo\n",
        "model.save(PATH_MODELS + OUTPUT_FILES + r'.h5',include_optimizer=True, save_format='h5')\n",
        "\n",
        "print(\"Tiempo de entrenamiento:\" + str(datetime_fin-datetime_comienzo) )\n",
        "\n",
        "#Historia de entrenamiento a dataframe\n",
        "hist = pd.DataFrame(history.history)\n",
        "hist['epoch'] = history.epoch\n",
        "hist.to_csv(PATH_MODELS + 'hist' + OUTPUT_FILES + r'.h5',index=True)\n",
        "hist.tail(5) "
      ],
      "execution_count": null,
      "outputs": [
        {
          "output_type": "stream",
          "text": [
            "Tiempo de entrenamiento:0:44:56.155349\n"
          ],
          "name": "stdout"
        },
        {
          "output_type": "execute_result",
          "data": {
            "text/html": [
              "<div>\n",
              "<style scoped>\n",
              "    .dataframe tbody tr th:only-of-type {\n",
              "        vertical-align: middle;\n",
              "    }\n",
              "\n",
              "    .dataframe tbody tr th {\n",
              "        vertical-align: top;\n",
              "    }\n",
              "\n",
              "    .dataframe thead th {\n",
              "        text-align: right;\n",
              "    }\n",
              "</style>\n",
              "<table border=\"1\" class=\"dataframe\">\n",
              "  <thead>\n",
              "    <tr style=\"text-align: right;\">\n",
              "      <th></th>\n",
              "      <th>loss</th>\n",
              "      <th>mae</th>\n",
              "      <th>mse</th>\n",
              "      <th>val_loss</th>\n",
              "      <th>val_mae</th>\n",
              "      <th>val_mse</th>\n",
              "      <th>epoch</th>\n",
              "    </tr>\n",
              "  </thead>\n",
              "  <tbody>\n",
              "    <tr>\n",
              "      <th>1995</th>\n",
              "      <td>0.000025</td>\n",
              "      <td>0.001990</td>\n",
              "      <td>0.000204</td>\n",
              "      <td>0.000005</td>\n",
              "      <td>0.001836</td>\n",
              "      <td>0.000018</td>\n",
              "      <td>1995</td>\n",
              "    </tr>\n",
              "    <tr>\n",
              "      <th>1996</th>\n",
              "      <td>0.000026</td>\n",
              "      <td>0.001824</td>\n",
              "      <td>0.000212</td>\n",
              "      <td>0.000016</td>\n",
              "      <td>0.003720</td>\n",
              "      <td>0.000066</td>\n",
              "      <td>1996</td>\n",
              "    </tr>\n",
              "    <tr>\n",
              "      <th>1997</th>\n",
              "      <td>0.000025</td>\n",
              "      <td>0.001950</td>\n",
              "      <td>0.000196</td>\n",
              "      <td>0.000020</td>\n",
              "      <td>0.004032</td>\n",
              "      <td>0.000089</td>\n",
              "      <td>1997</td>\n",
              "    </tr>\n",
              "    <tr>\n",
              "      <th>1998</th>\n",
              "      <td>0.000025</td>\n",
              "      <td>0.002098</td>\n",
              "      <td>0.000197</td>\n",
              "      <td>0.000003</td>\n",
              "      <td>0.001238</td>\n",
              "      <td>0.000012</td>\n",
              "      <td>1998</td>\n",
              "    </tr>\n",
              "    <tr>\n",
              "      <th>1999</th>\n",
              "      <td>0.000025</td>\n",
              "      <td>0.001801</td>\n",
              "      <td>0.000209</td>\n",
              "      <td>0.000006</td>\n",
              "      <td>0.001833</td>\n",
              "      <td>0.000028</td>\n",
              "      <td>1999</td>\n",
              "    </tr>\n",
              "  </tbody>\n",
              "</table>\n",
              "</div>"
            ],
            "text/plain": [
              "          loss       mae       mse  val_loss   val_mae   val_mse  epoch\n",
              "1995  0.000025  0.001990  0.000204  0.000005  0.001836  0.000018   1995\n",
              "1996  0.000026  0.001824  0.000212  0.000016  0.003720  0.000066   1996\n",
              "1997  0.000025  0.001950  0.000196  0.000020  0.004032  0.000089   1997\n",
              "1998  0.000025  0.002098  0.000197  0.000003  0.001238  0.000012   1998\n",
              "1999  0.000025  0.001801  0.000209  0.000006  0.001833  0.000028   1999"
            ]
          },
          "metadata": {
            "tags": []
          },
          "execution_count": 8
        }
      ]
    },
    {
      "cell_type": "markdown",
      "metadata": {
        "id": "r56eppLtDnOl"
      },
      "source": [
        "# Cargamos el mejor modelo\n",
        "Y comprobamos que la evaluación corresponde a la mejor época de la métrica de referencia MAE"
      ]
    },
    {
      "cell_type": "code",
      "metadata": {
        "colab": {
          "base_uri": "https://localhost:8080/"
        },
        "id": "zC_-4TuYFyh9",
        "outputId": "ca469ed0-e5b4-4164-b1cb-291c4f8461fc"
      },
      "source": [
        "model_best = keras.models.load_model(PATH_MODELS + OUTPUT_FILES + r'_best.h5',\n",
        "                                      custom_objects = {\"LeakyReLU\": LeakyReLU})\n",
        "model_best.evaluate(x_valid, y_valid, verbose=2)"
      ],
      "execution_count": 9,
      "outputs": [
        {
          "output_type": "stream",
          "text": [
            "56/56 - 0s - loss: 3.1211e-06 - mean_absolute_error: 9.7463e-04 - mean_squared_error: 1.1857e-05\n"
          ],
          "name": "stdout"
        },
        {
          "output_type": "execute_result",
          "data": {
            "text/plain": [
              "[3.1210588531394023e-06, 0.0009746329742483795, 1.185726432595402e-05]"
            ]
          },
          "metadata": {
            "tags": []
          },
          "execution_count": 9
        }
      ]
    },
    {
      "cell_type": "markdown",
      "metadata": {
        "id": "gRBhlB0Jvswk"
      },
      "source": [
        "# Inferencia - Energía frente a una distancia de enlace\n",
        "Fijando la otra distancia de enlace a 1.808 ua y el ángulos a 104.5 grados"
      ]
    },
    {
      "cell_type": "code",
      "metadata": {
        "colab": {
          "base_uri": "https://localhost:8080/",
          "height": 355
        },
        "id": "7lUVlFS5_tcl",
        "outputId": "89341b85-8373-4ce3-8194-d8e8e972b1e2"
      },
      "source": [
        "x_long_enlace = data[(np.round(data[\"ang\"],1)==104.5) & (np.round(data[\"rh2\"],3)==1.808)].copy()\n",
        "y_long_enlace =x_long_enlace.pop(\"energia\")\n",
        "\n",
        "\n",
        "x_arange = pd.DataFrame()\n",
        "x_arange['rh1'] =np.arange(0.8, 2.8, 0.001)\n",
        "x_arange['rh2'] =1.808\n",
        "x_arange['ang']= 104.5\n",
        "x_arange_input = (x_arange - x_stats['mean']) / x_stats['std']\n",
        "\n",
        "datetime_comienzo = datetime.now()\n",
        "test_predictions_arrange_rh1 = model_best.predict(x_arange_input).flatten()\n",
        "datetime_fin = datetime.now()\n",
        "print(\"Tiempo de entrenamiento:\" + str(datetime_fin-datetime_comienzo) )\n",
        "\n",
        "fig, ax = plt.subplots(figsize=(7,5))\n",
        "ax.plot(x_arange['rh1'], test_predictions_arrange_rh1 + minimo,'r-', label='Inferencia',  color='tab:orange')\n",
        "ax.scatter(x_long_enlace['rh1'], y_long_enlace, label='NwChem')\n",
        "\n",
        "ax.set_xlabel('Longitud de enlace rh1', fontsize=13)\n",
        "ax.set_ylabel('Energía (Hartrees)', fontsize=13)\n",
        "ax.legend(fontsize=13)\n",
        "plt.show()"
      ],
      "execution_count": 12,
      "outputs": [
        {
          "output_type": "stream",
          "text": [
            "Tiempo de entrenamiento:0:00:00.074963\n"
          ],
          "name": "stdout"
        },
        {
          "output_type": "display_data",
          "data": {
            "image/png": "[encoded data removed]",
            "text/plain": [
              "<Figure size 504x360 with 1 Axes>"
            ]
          },
          "metadata": {
            "tags": [],
            "needs_background": "light"
          }
        }
      ]
    },
    {
      "cell_type": "markdown",
      "metadata": {
        "id": "KZ2HBafsZvAF"
      },
      "source": [
        "# Inferencia - Energía frente al ángulo\n",
        "Fijando las dos distancias de enelace a 1.808"
      ]
    },
    {
      "cell_type": "code",
      "metadata": {
        "colab": {
          "base_uri": "https://localhost:8080/",
          "height": 374
        },
        "id": "05wz7zL9Fmni",
        "outputId": "32adbd50-eea3-4ffd-c780-f988ac5f1843"
      },
      "source": [
        "x_data_ang = data[(np.round(data['rh1'],3)==1.808) & (np.round(data['rh2'],3)==1.808)].copy()\n",
        "y_data_ang =x_data_ang.pop(\"energia\")\n",
        "\n",
        "x_arange = pd.DataFrame()\n",
        "x_arange['ang']= np.arange(95, 115, 0.01)\n",
        "x_arange['rh1'] =1.808\n",
        "x_arange['rh2'] =1.808\n",
        "x_arange_input = (x_arange - x_stats['mean']) / x_stats['std']\n",
        "\n",
        "test_predictions_arrange_ang = model_best.predict(x_arange_input).flatten()\n",
        "\n",
        "z = np.polyfit(x_arange['ang'], test_predictions_arrange_ang + minimo, 2)\n",
        "p = np.poly1d(z)\n",
        "ang_vertice = -p.coefficients[1]/(2*p.coefficients[0])\n",
        "print('Ángulo en el vértice de la parábola: {:.2f}'.format(ang_vertice))\n",
        "\n",
        "fig, ax = plt.subplots(figsize=(7,5))\n",
        "\n",
        "ax.scatter(x_data_ang['ang'], y_data_ang ,  label='NwChem')\n",
        "ax.plot(x_arange['ang'], test_predictions_arrange_ang + minimo, \"r-\", label='Inferencia',  color='tab:orange')\n",
        "ax.plot(x_arange['ang'],p(x_arange['ang']), \"r--\",label= 'Ajuste Inferencias')\n",
        "ax.set_title('Energía frente a angulo con enlaces fijos a 1.808 ua', fontsize=15)\n",
        "ax.set_xlabel('ángulo', fontsize=13)\n",
        "ax.set_ylabel('Energía (Hartrees)', fontsize=13)\n",
        "ax.yaxis.set_major_formatter(FormatStrFormatter('%.4f'))\n",
        "ax.legend(fontsize=13)\n",
        "\n",
        "plt.show()\n"
      ],
      "execution_count": 14,
      "outputs": [
        {
          "output_type": "stream",
          "text": [
            "Ángulo en el vértice de la parábola: 104.77\n"
          ],
          "name": "stdout"
        },
        {
          "output_type": "display_data",
          "data": {
            "image/png": "[encoded data removed]",
            "text/plain": [
              "<Figure size 504x360 with 1 Axes>"
            ]
          },
          "metadata": {
            "tags": [],
            "needs_background": "light"
          }
        }
      ]
    }
  ]
}