{
  "nbformat": 4,
  "nbformat_minor": 0,
  "metadata": {
    "colab": {
      "name": "CsvToSchNet.ipynb",
      "provenance": [],
      "collapsed_sections": []
    },
    "kernelspec": {
      "name": "python3",
      "display_name": "Python 3"
    }
  },
  "cells": [
    {
      "cell_type": "code",
      "metadata": {
        "id": "AJUEGPc7VejA",
        "colab": {
          "base_uri": "https://localhost:8080/",
          "height": 297
        },
        "outputId": "3ff4f065-edc2-4f9c-8ce8-694126b9e9fb"
      },
      "source": [
        "import numpy as np\n",
        "import pandas as pd\n",
        "import math\n",
        "\n",
        "df = pd.read_csv(\"/content/drive/My Drive/Colab Notebooks/output_h2o_HF_ccpvdz.csv\")\n",
        "df.describe()"
      ],
      "execution_count": null,
      "outputs": [
        {
          "output_type": "execute_result",
          "data": {
            "text/html": [
              "<div>\n",
              "<style scoped>\n",
              "    .dataframe tbody tr th:only-of-type {\n",
              "        vertical-align: middle;\n",
              "    }\n",
              "\n",
              "    .dataframe tbody tr th {\n",
              "        vertical-align: top;\n",
              "    }\n",
              "\n",
              "    .dataframe thead th {\n",
              "        text-align: right;\n",
              "    }\n",
              "</style>\n",
              "<table border=\"1\" class=\"dataframe\">\n",
              "  <thead>\n",
              "    <tr style=\"text-align: right;\">\n",
              "      <th></th>\n",
              "      <th>rh1</th>\n",
              "      <th>rh2</th>\n",
              "      <th>ang</th>\n",
              "      <th>energia</th>\n",
              "    </tr>\n",
              "  </thead>\n",
              "  <tbody>\n",
              "    <tr>\n",
              "      <th>count</th>\n",
              "      <td>1577.000000</td>\n",
              "      <td>1577.000000</td>\n",
              "      <td>1577.000000</td>\n",
              "      <td>1577.000000</td>\n",
              "    </tr>\n",
              "    <tr>\n",
              "      <th>mean</th>\n",
              "      <td>1.801492</td>\n",
              "      <td>1.790105</td>\n",
              "      <td>104.454254</td>\n",
              "      <td>-75.872634</td>\n",
              "    </tr>\n",
              "    <tr>\n",
              "      <th>std</th>\n",
              "      <td>0.405388</td>\n",
              "      <td>0.400403</td>\n",
              "      <td>4.028679</td>\n",
              "      <td>0.275690</td>\n",
              "    </tr>\n",
              "    <tr>\n",
              "      <th>min</th>\n",
              "      <td>0.800100</td>\n",
              "      <td>0.812400</td>\n",
              "      <td>94.560000</td>\n",
              "      <td>-76.027176</td>\n",
              "    </tr>\n",
              "    <tr>\n",
              "      <th>25%</th>\n",
              "      <td>1.500500</td>\n",
              "      <td>1.482000</td>\n",
              "      <td>101.556000</td>\n",
              "      <td>-75.994797</td>\n",
              "    </tr>\n",
              "    <tr>\n",
              "      <th>50%</th>\n",
              "      <td>1.795800</td>\n",
              "      <td>1.793000</td>\n",
              "      <td>104.508000</td>\n",
              "      <td>-75.963159</td>\n",
              "    </tr>\n",
              "    <tr>\n",
              "      <th>75%</th>\n",
              "      <td>2.098500</td>\n",
              "      <td>2.092700</td>\n",
              "      <td>107.398000</td>\n",
              "      <td>-75.903216</td>\n",
              "    </tr>\n",
              "    <tr>\n",
              "      <th>max</th>\n",
              "      <td>2.798100</td>\n",
              "      <td>2.799900</td>\n",
              "      <td>114.496000</td>\n",
              "      <td>-73.554732</td>\n",
              "    </tr>\n",
              "  </tbody>\n",
              "</table>\n",
              "</div>"
            ],
            "text/plain": [
              "               rh1          rh2          ang      energia\n",
              "count  1577.000000  1577.000000  1577.000000  1577.000000\n",
              "mean      1.801492     1.790105   104.454254   -75.872634\n",
              "std       0.405388     0.400403     4.028679     0.275690\n",
              "min       0.800100     0.812400    94.560000   -76.027176\n",
              "25%       1.500500     1.482000   101.556000   -75.994797\n",
              "50%       1.795800     1.793000   104.508000   -75.963159\n",
              "75%       2.098500     2.092700   107.398000   -75.903216\n",
              "max       2.798100     2.799900   114.496000   -73.554732"
            ]
          },
          "metadata": {
            "tags": []
          },
          "execution_count": 3
        }
      ]
    },
    {
      "cell_type": "code",
      "metadata": {
        "id": "RZMv-sVwV8ck"
      },
      "source": [
        "r_bhor_angstrom =0.529177\n",
        "f = open(\"/content/drive/My Drive/Colab Notebooks/output_h2o_HF_ccpvdz_to_SchNet.xyz\", \"w\", newline='')\n",
        "#f.close()\n",
        "\n",
        "\n",
        "for index, row in df.iterrows():\n",
        "    #f = open(\"NwChem_2_SchNet.csv\", \"a\", newline='')\n",
        "    f.write(\"3\")\n",
        "    f.write('\\n')\n",
        "    f.write(str(round(row[\"energia\"],6)))\n",
        "    #f.write(\"00000000\")\n",
        "    f.write('\\n')\n",
        "    r1= row[\"rh1\"]*r_bhor_angstrom\n",
        "    r2= row[\"rh2\"]*r_bhor_angstrom\n",
        "    seno = math.sin(row[\"ang\"]*math.pi/180/2)\n",
        "    coseno = math.cos(row[\"ang\"]*math.pi/180/2)\n",
        "    r1x= r1*coseno\n",
        "    r2x= r2*coseno\n",
        "    r1y= r1*seno\n",
        "    r2y= -r2*seno\n",
        "    f.write(\"O\\t0.00000\\t0.00000\\t0.00000\")\n",
        "    f.write('\\n')\n",
        "    f.write(\"H\\t\"+str(round(r1x,6))+\"\\t\"+str(round(r1y,6))+\"\\t0.00000\")\n",
        "    f.write('\\n')\n",
        "    f.write(\"H\\t\"+str(round(r2x,6))+\"\\t\"+str(round(r2y,6))+\"\\t0.00000\")\n",
        "    f.write('\\n')\n",
        "    #f.close()\n",
        "\n",
        "f.close()    \n",
        "    #cambioa ht 97208*0.043/27.21 = 153.6"
      ],
      "execution_count": null,
      "outputs": []
    }
  ]
}