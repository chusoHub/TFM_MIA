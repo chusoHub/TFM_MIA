{
  "nbformat": 4,
  "nbformat_minor": 0,
  "metadata": {
    "colab": {
      "name": "schnet_2_inferencia.ipynb",
      "provenance": [],
      "collapsed_sections": [],
      "toc_visible": true
    },
    "kernelspec": {
      "name": "python3",
      "display_name": "Python 3"
    },
    "accelerator": "GPU"
  },
  "cells": [
    {
      "cell_type": "markdown",
      "metadata": {
        "id": "EYWHtTm78y0v"
      },
      "source": [
        "# Modelo SchNet\n",
        "\n",
        "\n",
        "*   n_atom_basis=30\n",
        "*   n_filters=30\n",
        "*   n_gaussians=20\n",
        "*   n_interactions=5\n",
        "*   cutoff=4.\n",
        "*   cutoff_network=CosineCutoff\n",
        "*   Adam 1e-2\n",
        "*   ReduceLROnPlateauHook hasta 1e-6\n",
        "\n"
      ]
    },
    {
      "cell_type": "code",
      "metadata": {
        "id": "AJUEGPc7VejA",
        "colab": {
          "base_uri": "https://localhost:8080/"
        },
        "outputId": "f80b964c-8f4b-4f79-8d69-8149e3a9e92f"
      },
      "source": [
        "!pip install schnetpack\n",
        "!pip install ase\n",
        "!pip install nglview\n",
        "from datetime import datetime\n",
        "import numpy as np\n",
        "import matplotlib.pyplot as plt\n",
        "from matplotlib.ticker import LinearLocator, FormatStrFormatter\n",
        "import pandas as pd\n",
        "from  schnetpack import AtomsData\n",
        "import schnetpack as spk\n",
        "import schnetpack.train as trn\n",
        "from ase.io import read\n",
        "from ase.visualize.plot import plot_atoms\n",
        "from ase.lattice.cubic import FaceCenteredCubic\n",
        "from torch.optim import Adam\n",
        "import torch\n",
        "import math\n",
        "from ase import Atoms\n",
        "qmH2O = '/content/drive/My Drive/Colab Notebooks/SchNet Files/qmH2O_1/'\n",
        "SchNet_Files = '/content/drive/My Drive/Colab Notebooks/SchNet Files/'\n",
        "Files = '/content/drive/My Drive/Colab Notebooks/'\n",
        "device = \"cuda\" "
      ],
      "execution_count": 1,
      "outputs": [
        {
          "output_type": "stream",
          "text": [
            "Collecting schnetpack\n",
            "\u001b[?25l  Downloading https://files.pythonhosted.org/packages/76/82/17b18e37ecc043c1c25c37c9b18f0da3bf94a6998142b08e035f9cbd794f/schnetpack-0.3-py3-none-any.whl (256kB)\n",
            "\u001b[K     |████████████████████████████████| 266kB 12.6MB/s \n",
            "\u001b[?25hRequirement already satisfied: tqdm in /usr/local/lib/python3.6/dist-packages (from schnetpack) (4.41.1)\n",
            "Collecting tensorboardX\n",
            "\u001b[?25l  Downloading https://files.pythonhosted.org/packages/af/0c/4f41bcd45db376e6fe5c619c01100e9b7531c55791b7244815bac6eac32c/tensorboardX-2.1-py2.py3-none-any.whl (308kB)\n",
            "\u001b[K     |████████████████████████████████| 317kB 16.9MB/s \n",
            "\u001b[?25hRequirement already satisfied: torch>=1.1 in /usr/local/lib/python3.6/dist-packages (from schnetpack) (1.7.0+cu101)\n",
            "Requirement already satisfied: h5py in /usr/local/lib/python3.6/dist-packages (from schnetpack) (2.10.0)\n",
            "Requirement already satisfied: pyyaml in /usr/local/lib/python3.6/dist-packages (from schnetpack) (3.13)\n",
            "Collecting ase>=3.18\n",
            "\u001b[?25l  Downloading https://files.pythonhosted.org/packages/51/78/edadb45c7f26f8fbb99da81feadb561c26bb0393b6c5d1ac200ecdc12d61/ase-3.20.1-py3-none-any.whl (2.2MB)\n",
            "\u001b[K     |████████████████████████████████| 2.2MB 23.3MB/s \n",
            "\u001b[?25hRequirement already satisfied: numpy in /usr/local/lib/python3.6/dist-packages (from schnetpack) (1.18.5)\n",
            "Requirement already satisfied: protobuf>=3.8.0 in /usr/local/lib/python3.6/dist-packages (from tensorboardX->schnetpack) (3.12.4)\n",
            "Requirement already satisfied: six in /usr/local/lib/python3.6/dist-packages (from tensorboardX->schnetpack) (1.15.0)\n",
            "Requirement already satisfied: dataclasses in /usr/local/lib/python3.6/dist-packages (from torch>=1.1->schnetpack) (0.8)\n",
            "Requirement already satisfied: typing-extensions in /usr/local/lib/python3.6/dist-packages (from torch>=1.1->schnetpack) (3.7.4.3)\n",
            "Requirement already satisfied: future in /usr/local/lib/python3.6/dist-packages (from torch>=1.1->schnetpack) (0.16.0)\n",
            "Requirement already satisfied: matplotlib>=2.0.0 in /usr/local/lib/python3.6/dist-packages (from ase>=3.18->schnetpack) (3.2.2)\n",
            "Requirement already satisfied: scipy>=0.18.1 in /usr/local/lib/python3.6/dist-packages (from ase>=3.18->schnetpack) (1.4.1)\n",
            "Requirement already satisfied: setuptools in /usr/local/lib/python3.6/dist-packages (from protobuf>=3.8.0->tensorboardX->schnetpack) (50.3.2)\n",
            "Requirement already satisfied: cycler>=0.10 in /usr/local/lib/python3.6/dist-packages (from matplotlib>=2.0.0->ase>=3.18->schnetpack) (0.10.0)\n",
            "Requirement already satisfied: pyparsing!=2.0.4,!=2.1.2,!=2.1.6,>=2.0.1 in /usr/local/lib/python3.6/dist-packages (from matplotlib>=2.0.0->ase>=3.18->schnetpack) (2.4.7)\n",
            "Requirement already satisfied: kiwisolver>=1.0.1 in /usr/local/lib/python3.6/dist-packages (from matplotlib>=2.0.0->ase>=3.18->schnetpack) (1.3.1)\n",
            "Requirement already satisfied: python-dateutil>=2.1 in /usr/local/lib/python3.6/dist-packages (from matplotlib>=2.0.0->ase>=3.18->schnetpack) (2.8.1)\n",
            "Installing collected packages: tensorboardX, ase, schnetpack\n",
            "Successfully installed ase-3.20.1 schnetpack-0.3 tensorboardX-2.1\n",
            "Requirement already satisfied: ase in /usr/local/lib/python3.6/dist-packages (3.20.1)\n",
            "Requirement already satisfied: matplotlib>=2.0.0 in /usr/local/lib/python3.6/dist-packages (from ase) (3.2.2)\n",
            "Requirement already satisfied: numpy>=1.11.3 in /usr/local/lib/python3.6/dist-packages (from ase) (1.18.5)\n",
            "Requirement already satisfied: scipy>=0.18.1 in /usr/local/lib/python3.6/dist-packages (from ase) (1.4.1)\n",
            "Requirement already satisfied: kiwisolver>=1.0.1 in /usr/local/lib/python3.6/dist-packages (from matplotlib>=2.0.0->ase) (1.3.1)\n",
            "Requirement already satisfied: pyparsing!=2.0.4,!=2.1.2,!=2.1.6,>=2.0.1 in /usr/local/lib/python3.6/dist-packages (from matplotlib>=2.0.0->ase) (2.4.7)\n",
            "Requirement already satisfied: cycler>=0.10 in /usr/local/lib/python3.6/dist-packages (from matplotlib>=2.0.0->ase) (0.10.0)\n",
            "Requirement already satisfied: python-dateutil>=2.1 in /usr/local/lib/python3.6/dist-packages (from matplotlib>=2.0.0->ase) (2.8.1)\n",
            "Requirement already satisfied: six in /usr/local/lib/python3.6/dist-packages (from cycler>=0.10->matplotlib>=2.0.0->ase) (1.15.0)\n",
            "Collecting nglview\n",
            "\u001b[?25l  Downloading https://files.pythonhosted.org/packages/6d/21/1e1b26979a11e8b812dfc564c525818f69650e78f104260ec96b07beb405/nglview-2.7.7.tar.gz (5.2MB)\n",
            "\u001b[K     |████████████████████████████████| 5.2MB 13.7MB/s \n",
            "\u001b[?25hRequirement already satisfied: ipywidgets>=7 in /usr/local/lib/python3.6/dist-packages (from nglview) (7.5.1)\n",
            "Requirement already satisfied: numpy in /usr/local/lib/python3.6/dist-packages (from nglview) (1.18.5)\n",
            "Requirement already satisfied: widgetsnbextension~=3.5.0 in /usr/local/lib/python3.6/dist-packages (from ipywidgets>=7->nglview) (3.5.1)\n",
            "Requirement already satisfied: traitlets>=4.3.1 in /usr/local/lib/python3.6/dist-packages (from ipywidgets>=7->nglview) (4.3.3)\n",
            "Requirement already satisfied: ipython>=4.0.0; python_version >= \"3.3\" in /usr/local/lib/python3.6/dist-packages (from ipywidgets>=7->nglview) (5.5.0)\n",
            "Requirement already satisfied: ipykernel>=4.5.1 in /usr/local/lib/python3.6/dist-packages (from ipywidgets>=7->nglview) (4.10.1)\n",
            "Requirement already satisfied: nbformat>=4.2.0 in /usr/local/lib/python3.6/dist-packages (from ipywidgets>=7->nglview) (5.0.8)\n",
            "Requirement already satisfied: notebook>=4.4.1 in /usr/local/lib/python3.6/dist-packages (from widgetsnbextension~=3.5.0->ipywidgets>=7->nglview) (5.3.1)\n",
            "Requirement already satisfied: ipython-genutils in /usr/local/lib/python3.6/dist-packages (from traitlets>=4.3.1->ipywidgets>=7->nglview) (0.2.0)\n",
            "Requirement already satisfied: decorator in /usr/local/lib/python3.6/dist-packages (from traitlets>=4.3.1->ipywidgets>=7->nglview) (4.4.2)\n",
            "Requirement already satisfied: six in /usr/local/lib/python3.6/dist-packages (from traitlets>=4.3.1->ipywidgets>=7->nglview) (1.15.0)\n",
            "Requirement already satisfied: setuptools>=18.5 in /usr/local/lib/python3.6/dist-packages (from ipython>=4.0.0; python_version >= \"3.3\"->ipywidgets>=7->nglview) (50.3.2)\n",
            "Requirement already satisfied: simplegeneric>0.8 in /usr/local/lib/python3.6/dist-packages (from ipython>=4.0.0; python_version >= \"3.3\"->ipywidgets>=7->nglview) (0.8.1)\n",
            "Requirement already satisfied: pexpect; sys_platform != \"win32\" in /usr/local/lib/python3.6/dist-packages (from ipython>=4.0.0; python_version >= \"3.3\"->ipywidgets>=7->nglview) (4.8.0)\n",
            "Requirement already satisfied: prompt-toolkit<2.0.0,>=1.0.4 in /usr/local/lib/python3.6/dist-packages (from ipython>=4.0.0; python_version >= \"3.3\"->ipywidgets>=7->nglview) (1.0.18)\n",
            "Requirement already satisfied: pygments in /usr/local/lib/python3.6/dist-packages (from ipython>=4.0.0; python_version >= \"3.3\"->ipywidgets>=7->nglview) (2.6.1)\n",
            "Requirement already satisfied: pickleshare in /usr/local/lib/python3.6/dist-packages (from ipython>=4.0.0; python_version >= \"3.3\"->ipywidgets>=7->nglview) (0.7.5)\n",
            "Requirement already satisfied: jupyter-client in /usr/local/lib/python3.6/dist-packages (from ipykernel>=4.5.1->ipywidgets>=7->nglview) (5.3.5)\n",
            "Requirement already satisfied: tornado>=4.0 in /usr/local/lib/python3.6/dist-packages (from ipykernel>=4.5.1->ipywidgets>=7->nglview) (5.1.1)\n",
            "Requirement already satisfied: jsonschema!=2.5.0,>=2.4 in /usr/local/lib/python3.6/dist-packages (from nbformat>=4.2.0->ipywidgets>=7->nglview) (2.6.0)\n",
            "Requirement already satisfied: jupyter-core in /usr/local/lib/python3.6/dist-packages (from nbformat>=4.2.0->ipywidgets>=7->nglview) (4.7.0)\n",
            "Requirement already satisfied: jinja2 in /usr/local/lib/python3.6/dist-packages (from notebook>=4.4.1->widgetsnbextension~=3.5.0->ipywidgets>=7->nglview) (2.11.2)\n",
            "Requirement already satisfied: Send2Trash in /usr/local/lib/python3.6/dist-packages (from notebook>=4.4.1->widgetsnbextension~=3.5.0->ipywidgets>=7->nglview) (1.5.0)\n",
            "Requirement already satisfied: terminado>=0.8.1 in /usr/local/lib/python3.6/dist-packages (from notebook>=4.4.1->widgetsnbextension~=3.5.0->ipywidgets>=7->nglview) (0.9.1)\n",
            "Requirement already satisfied: nbconvert in /usr/local/lib/python3.6/dist-packages (from notebook>=4.4.1->widgetsnbextension~=3.5.0->ipywidgets>=7->nglview) (5.6.1)\n",
            "Requirement already satisfied: ptyprocess>=0.5 in /usr/local/lib/python3.6/dist-packages (from pexpect; sys_platform != \"win32\"->ipython>=4.0.0; python_version >= \"3.3\"->ipywidgets>=7->nglview) (0.6.0)\n",
            "Requirement already satisfied: wcwidth in /usr/local/lib/python3.6/dist-packages (from prompt-toolkit<2.0.0,>=1.0.4->ipython>=4.0.0; python_version >= \"3.3\"->ipywidgets>=7->nglview) (0.2.5)\n",
            "Requirement already satisfied: pyzmq>=13 in /usr/local/lib/python3.6/dist-packages (from jupyter-client->ipykernel>=4.5.1->ipywidgets>=7->nglview) (20.0.0)\n",
            "Requirement already satisfied: python-dateutil>=2.1 in /usr/local/lib/python3.6/dist-packages (from jupyter-client->ipykernel>=4.5.1->ipywidgets>=7->nglview) (2.8.1)\n",
            "Requirement already satisfied: MarkupSafe>=0.23 in /usr/local/lib/python3.6/dist-packages (from jinja2->notebook>=4.4.1->widgetsnbextension~=3.5.0->ipywidgets>=7->nglview) (1.1.1)\n",
            "Requirement already satisfied: mistune<2,>=0.8.1 in /usr/local/lib/python3.6/dist-packages (from nbconvert->notebook>=4.4.1->widgetsnbextension~=3.5.0->ipywidgets>=7->nglview) (0.8.4)\n",
            "Requirement already satisfied: entrypoints>=0.2.2 in /usr/local/lib/python3.6/dist-packages (from nbconvert->notebook>=4.4.1->widgetsnbextension~=3.5.0->ipywidgets>=7->nglview) (0.3)\n",
            "Requirement already satisfied: bleach in /usr/local/lib/python3.6/dist-packages (from nbconvert->notebook>=4.4.1->widgetsnbextension~=3.5.0->ipywidgets>=7->nglview) (3.2.1)\n",
            "Requirement already satisfied: defusedxml in /usr/local/lib/python3.6/dist-packages (from nbconvert->notebook>=4.4.1->widgetsnbextension~=3.5.0->ipywidgets>=7->nglview) (0.6.0)\n",
            "Requirement already satisfied: pandocfilters>=1.4.1 in /usr/local/lib/python3.6/dist-packages (from nbconvert->notebook>=4.4.1->widgetsnbextension~=3.5.0->ipywidgets>=7->nglview) (1.4.3)\n",
            "Requirement already satisfied: testpath in /usr/local/lib/python3.6/dist-packages (from nbconvert->notebook>=4.4.1->widgetsnbextension~=3.5.0->ipywidgets>=7->nglview) (0.4.4)\n",
            "Requirement already satisfied: webencodings in /usr/local/lib/python3.6/dist-packages (from bleach->nbconvert->notebook>=4.4.1->widgetsnbextension~=3.5.0->ipywidgets>=7->nglview) (0.5.1)\n",
            "Requirement already satisfied: packaging in /usr/local/lib/python3.6/dist-packages (from bleach->nbconvert->notebook>=4.4.1->widgetsnbextension~=3.5.0->ipywidgets>=7->nglview) (20.4)\n",
            "Requirement already satisfied: pyparsing>=2.0.2 in /usr/local/lib/python3.6/dist-packages (from packaging->bleach->nbconvert->notebook>=4.4.1->widgetsnbextension~=3.5.0->ipywidgets>=7->nglview) (2.4.7)\n",
            "Building wheels for collected packages: nglview\n",
            "  Building wheel for nglview (setup.py) ... \u001b[?25l\u001b[?25hdone\n",
            "  Created wheel for nglview: filename=nglview-2.7.7-cp36-none-any.whl size=6983522 sha256=c6b0997bb67ca8a03e4ffe29e10baaba7ab4b92687ba3eac8253fb8d8a9908df\n",
            "  Stored in directory: /root/.cache/pip/wheels/24/14/56/fc0406301850d9d017a748b568b2e97566148deda046ac56dc\n",
            "Successfully built nglview\n",
            "Installing collected packages: nglview\n",
            "Successfully installed nglview-2.7.7\n"
          ],
          "name": "stdout"
        }
      ]
    },
    {
      "cell_type": "markdown",
      "metadata": {
        "id": "-mV2EZzbCYHR"
      },
      "source": [
        "# DB ASE \n",
        "Una DB ASE es una SQL Lite para átomos y moléculas. Si existe el archivo de DB se cargan sus datos, si no existe se crea el fichero DB vacío "
      ]
    },
    {
      "cell_type": "code",
      "metadata": {
        "id": "5H_s5lhjCxHl"
      },
      "source": [
        "new_dataset = AtomsData(SchNet_Files + 'new_dataset_H2O.db')"
      ],
      "execution_count": 3,
      "outputs": []
    },
    {
      "cell_type": "markdown",
      "metadata": {
        "id": "LBekxTAQ1P6T"
      },
      "source": [
        "# Carga de datos en DB a partir de fichero en formato xyz\n",
        "# Comentado! \n",
        "Esto se hace una vez en local y sirve para todos los entrenamnientos"
      ]
    },
    {
      "cell_type": "markdown",
      "metadata": {
        "id": "sjbk7gtKDQp7"
      },
      "source": [
        "1.   Se importa el archivo xyz con la información de las \n",
        "moléculas y sus propiedades. En nuestro caso:\n",
        "*   Posición de los átomos\n",
        "*   Energía\n",
        "\n"
      ]
    },
    {
      "cell_type": "code",
      "metadata": {
        "colab": {
          "base_uri": "https://localhost:8080/"
        },
        "id": "IrCB74xLnOgE",
        "outputId": "24d79784-6c6b-4705-82f5-e042df4c2faf"
      },
      "source": [
        "#atoms = read('/content/drive/My Drive/Colab Notebooks/output_h2o_HF_ccpvdz_to_SchNet.xyz', index=':17636')\n",
        "#print(len(atoms))"
      ],
      "execution_count": null,
      "outputs": [
        {
          "output_type": "stream",
          "text": [
            "17636\n"
          ],
          "name": "stdout"
        }
      ]
    },
    {
      "cell_type": "markdown",
      "metadata": {
        "id": "Ph8xwrnQDqPj"
      },
      "source": [
        "2.   Se pueden visualizar las moléculas\n",
        "\n"
      ]
    },
    {
      "cell_type": "code",
      "metadata": {
        "colab": {
          "base_uri": "https://localhost:8080/",
          "height": 239
        },
        "id": "4N7O-0QJzKCl",
        "outputId": "e377a9b7-1fa3-4b8a-8516-a6b9be6b3283"
      },
      "source": [
        "#fig, ax = plt.subplots()\n",
        "#plot_atoms(atoms[12852], ax, radii=0.3, rotation=('0x,0y,-90z'))"
      ],
      "execution_count": null,
      "outputs": [
        {
          "output_type": "execute_result",
          "data": {
            "text/plain": [
              "<matplotlib.axes._subplots.AxesSubplot at 0x7f3ee5008d68>"
            ]
          },
          "metadata": {
            "tags": []
          },
          "execution_count": 10
        },
        {
          "output_type": "display_data",
          "data": {
            "image/png": "[encoded data removed]",
            "text/plain": [
              "<Figure size 432x288 with 1 Axes>"
            ]
          },
          "metadata": {
            "tags": [],
            "needs_background": "light"
          }
        }
      ]
    },
    {
      "cell_type": "markdown",
      "metadata": {
        "id": "5Jesve4rD6Ml"
      },
      "source": [
        "3.   Se crea una lista, solo con las propiedades que no sean posiciones espaciales o vectores de fuerza. En nuestro caso la energía."
      ]
    },
    {
      "cell_type": "code",
      "metadata": {
        "colab": {
          "base_uri": "https://localhost:8080/"
        },
        "id": "CWKDiRty0QSP",
        "outputId": "5597ce16-4474-49be-9b2b-37197f13ae67"
      },
      "source": [
        "#print('Energy:', atoms[12852].info)\n",
        "\n",
        "# parse properties as list of dictionaries\n",
        "#property_list = []\n",
        "#for at in atoms:\n",
        "#    energy = np.array([float(list(at.info.keys())[0])], dtype=np.float32)\n",
        "#    property_list.append(\n",
        "#        {'energy': energy}\n",
        "#    )\n",
        "#print(property_list[12852])\n",
        "#len(property_list)"
      ],
      "execution_count": null,
      "outputs": [
        {
          "output_type": "stream",
          "text": [
            "Energy: {'-76.027388': True}\n",
            "{'energy': array([-76.02739], dtype=float32)}\n"
          ],
          "name": "stdout"
        },
        {
          "output_type": "execute_result",
          "data": {
            "text/plain": [
              "17636"
            ]
          },
          "metadata": {
            "tags": []
          },
          "execution_count": 4
        }
      ]
    },
    {
      "cell_type": "markdown",
      "metadata": {
        "id": "2ifhKG0mEauS"
      },
      "source": [
        "4.   Se carga la información en la DB de forma persistente\n"
      ]
    },
    {
      "cell_type": "code",
      "metadata": {
        "id": "CVKyghjb8KMh"
      },
      "source": [
        "#new_dataset.add_systems(atoms, property_list)"
      ],
      "execution_count": null,
      "outputs": []
    },
    {
      "cell_type": "markdown",
      "metadata": {
        "id": "AAqZ3DopFnu_"
      },
      "source": [
        "# Creación del conjunto de entrenamiento y validación\n",
        "Test se deja a cero porque disponemos de un dataset propio.\n",
        "\n",
        "La partición aleatoria queda reflejada en el archivo split.npz\n",
        "\n",
        "Si ya existe split.npz mantiene la partición.\n",
        "\n",
        "Se valida con el 10% (1736) del total del os datos (17363)"
      ]
    },
    {
      "cell_type": "code",
      "metadata": {
        "id": "sOKwdsrtF3Dx"
      },
      "source": [
        "train, val, test = spk.train_test_split(\n",
        "        data=new_dataset,\n",
        "        num_train=15872,\n",
        "        num_val=1764,\n",
        "        split_file= qmH2O +'split.npz',\n",
        "    )"
      ],
      "execution_count": 12,
      "outputs": []
    },
    {
      "cell_type": "markdown",
      "metadata": {
        "id": "b_pvtEyMIc_I"
      },
      "source": [
        "Comprobamos que hay datos"
      ]
    },
    {
      "cell_type": "code",
      "metadata": {
        "colab": {
          "base_uri": "https://localhost:8080/"
        },
        "id": "PHFJVSBvMMyD",
        "outputId": "a42ff7b4-d879-4270-8271-71591185931b"
      },
      "source": [
        "train.get_properties(15871)\n",
        "val.get_properties(1763)"
      ],
      "execution_count": 13,
      "outputs": [
        {
          "output_type": "stream",
          "text": [
            "/usr/local/lib/python3.6/dist-packages/schnetpack/data/atoms.py:327: UserWarning: The given NumPy array is not writeable, and PyTorch does not support non-writeable tensors. This means you can write to the underlying (supposedly non-writeable) NumPy array using the tensor. You may want to copy the array to protect its data or make it writeable before converting it to a tensor. This type of warning will be suppressed for the rest of this program. (Triggered internally at  /pytorch/torch/csrc/utils/tensor_numpy.cpp:141.)\n",
            "  properties[pname] = torch.FloatTensor(prop)\n",
            "/usr/local/lib/python3.6/dist-packages/ase/atoms.py:972: VisibleDeprecationWarning: Use get_global_number_of_atoms() instead\n",
            "  np.VisibleDeprecationWarning)\n"
          ],
          "name": "stderr"
        },
        {
          "output_type": "execute_result",
          "data": {
            "text/plain": [
              "(Atoms(symbols='OH2', pbc=False),\n",
              " {'_atomic_numbers': tensor([8, 1, 1]), '_cell': tensor([[0., 0., 0.],\n",
              "          [0., 0., 0.],\n",
              "          [0., 0., 0.]]), '_cell_offset': tensor([[[0., 0., 0.],\n",
              "           [0., 0., 0.]],\n",
              "  \n",
              "          [[0., 0., 0.],\n",
              "           [0., 0., 0.]],\n",
              "  \n",
              "          [[0., 0., 0.],\n",
              "           [0., 0., 0.]]]), '_neighbors': tensor([[1, 2],\n",
              "          [0, 2],\n",
              "          [0, 1]]), '_positions': tensor([[-0.0594, -0.0017,  0.0000],\n",
              "          [ 0.4841,  0.6816,  0.0000],\n",
              "          [ 0.4594, -0.6540,  0.0000]]), 'energy': tensor([-76.0015])})"
            ]
          },
          "metadata": {
            "tags": []
          },
          "execution_count": 13
        }
      ]
    },
    {
      "cell_type": "markdown",
      "metadata": {
        "id": "rtVhDBlXIvA8"
      },
      "source": [
        "# Creación de Data Loaders"
      ]
    },
    {
      "cell_type": "code",
      "metadata": {
        "id": "YskjQdPAGow6"
      },
      "source": [
        "train_loader = spk.AtomsLoader(train, batch_size=100, shuffle=True)\n",
        "val_loader = spk.AtomsLoader(val, batch_size=20)"
      ],
      "execution_count": null,
      "outputs": []
    },
    {
      "cell_type": "markdown",
      "metadata": {
        "id": "9aY20P_6I7dH"
      },
      "source": [
        "# Cálculo de las estadísticas de las propiedades"
      ]
    },
    {
      "cell_type": "code",
      "metadata": {
        "colab": {
          "base_uri": "https://localhost:8080/"
        },
        "id": "5XTVPAQd_PEb",
        "outputId": "acd4be78-2828-4935-b793-bcc8d18bbe86"
      },
      "source": [
        "atomrefs = new_dataset.get_atomref('energy')\n",
        "means, stddevs = train_loader.get_statistics(\n",
        "    property_names ='energy', single_atom_ref=atomrefs\n",
        ")\n",
        "print('Mean atomization energy / atom:', means['energy'])\n",
        "print('Std. dev. atomization energy / atom:', stddevs['energy'])"
      ],
      "execution_count": null,
      "outputs": [
        {
          "output_type": "stream",
          "text": [
            "/usr/local/lib/python3.6/dist-packages/ase/atoms.py:972: VisibleDeprecationWarning: Use get_global_number_of_atoms() instead\n",
            "  np.VisibleDeprecationWarning)\n"
          ],
          "name": "stderr"
        },
        {
          "output_type": "stream",
          "text": [
            "Mean atomization energy / atom: tensor([-75.7429])\n",
            "Std. dev. atomization energy / atom: tensor([0.4271])\n"
          ],
          "name": "stdout"
        }
      ]
    },
    {
      "cell_type": "markdown",
      "metadata": {
        "id": "vFg4-565JxbG"
      },
      "source": [
        "# Definición del modelo\n",
        "\n",
        "\n",
        "1.   Se define el modelo que representa al sistema\n",
        "2.   Se define la la salida que proporciona la energía a partir del modelo anterior.\n",
        "2.   Se unen las dos partes en un mismo modelo\n",
        "\n"
      ]
    },
    {
      "cell_type": "code",
      "metadata": {
        "id": "pMB77aV6N7jA"
      },
      "source": [
        "schnet = spk.representation.SchNet(\n",
        "    n_atom_basis=30, n_filters=30, n_gaussians=20, n_interactions=5,\n",
        "    cutoff=4., cutoff_network=spk.nn.cutoff.CosineCutoff\n",
        ")\n",
        "\n",
        "output_E = spk.atomistic.Atomwise(n_in=30, atomref=atomrefs['energy'], property='energy',\n",
        "                                   mean=means['energy'], stddev=stddevs['energy'])\n",
        "\n",
        "model = spk.AtomisticModel(representation=schnet, output_modules=output_E)"
      ],
      "execution_count": null,
      "outputs": []
    },
    {
      "cell_type": "markdown",
      "metadata": {
        "id": "gtraHJy6K4Is"
      },
      "source": [
        "# Definición del Trainer con:\n",
        "*   Optimizador\n",
        "*   Función de pérdida mse\n",
        "*   Métrica MeanAbsoluteError\n",
        "*   Reducción progresiva de lr con ReduceLROnPlateauHook\n",
        "*   Ruta donde se guardará el mejor modelo, logs y checkpoints\n",
        "*   Conjunto de datos de train y validation\n",
        "\n"
      ]
    },
    {
      "cell_type": "code",
      "metadata": {
        "id": "xmsqsn6vNV3q"
      },
      "source": [
        "optimizer = Adam(model.parameters(), lr=1e-2)\n",
        "loss = trn.build_mse_loss(['energy'])\n",
        "metrics = [spk.metrics.MeanAbsoluteError('energy')]\n",
        "hooks = [\n",
        "    trn.CSVHook(log_path=qmH2O, metrics=metrics),\n",
        "    trn.ReduceLROnPlateauHook(\n",
        "        optimizer,\n",
        "        patience=3, factor=0.8, min_lr=1e-6,\n",
        "        stop_after_min=True\n",
        "    )\n",
        "]\n",
        "trainer = trn.Trainer(\n",
        "    model_path=qmH2O,\n",
        "    model=model,\n",
        "    hooks=hooks,\n",
        "    loss_fn=loss,\n",
        "    optimizer=optimizer,\n",
        "    train_loader=train_loader,\n",
        "    validation_loader=val_loader,\n",
        ")"
      ],
      "execution_count": null,
      "outputs": []
    },
    {
      "cell_type": "markdown",
      "metadata": {
        "id": "XUr4DgFtL18K"
      },
      "source": [
        "# Entrenamiento del modelo"
      ]
    },
    {
      "cell_type": "code",
      "metadata": {
        "colab": {
          "base_uri": "https://localhost:8080/"
        },
        "id": "u9l4fy22ODqG",
        "outputId": "35c815c6-6390-42d2-ac51-f1cdb26267a0"
      },
      "source": [
        "n_epochs = 1000\n",
        "\n",
        "datetime_comienzo = datetime.now()\n",
        "\n",
        "trainer.train(device=device, n_epochs=n_epochs)\n",
        "\n",
        "datetime_fin = datetime.now()\n",
        "print(\"Tiempo de entrenamiento:\" + str(datetime_fin-datetime_comienzo) )"
      ],
      "execution_count": null,
      "outputs": [
        {
          "output_type": "stream",
          "text": [
            "/usr/local/lib/python3.6/dist-packages/ase/atoms.py:972: VisibleDeprecationWarning: Use get_global_number_of_atoms() instead\n",
            "  np.VisibleDeprecationWarning)\n"
          ],
          "name": "stderr"
        },
        {
          "output_type": "stream",
          "text": [
            "Tiempo de entrenamiento:5:00:08.642277\n"
          ],
          "name": "stdout"
        }
      ]
    },
    {
      "cell_type": "markdown",
      "metadata": {
        "id": "pBPfxTi7N9DV"
      },
      "source": [
        "# Carga del mejor modelo"
      ]
    },
    {
      "cell_type": "code",
      "metadata": {
        "id": "kYbTcp9tOBV3"
      },
      "source": [
        "best_model = torch.load(qmH2O + 'best_model')"
      ],
      "execution_count": 4,
      "outputs": []
    },
    {
      "cell_type": "markdown",
      "metadata": {
        "id": "huG2TUl-x3Jx"
      },
      "source": [
        "# Inferencia - Energía frente a una distancia de enlace\n",
        "Fijando la otra distancia de enlace a 1.808 ua y el ángulo a 104.5 grados"
      ]
    },
    {
      "cell_type": "markdown",
      "metadata": {
        "id": "JpTMiyowyvc7"
      },
      "source": [
        ""
      ]
    },
    {
      "cell_type": "code",
      "metadata": {
        "colab": {
          "base_uri": "https://localhost:8080/",
          "height": 523
        },
        "id": "UUEpctlZXdG2",
        "outputId": "8f68b485-d2b6-4986-bd73-355857a3d1cd"
      },
      "source": [
        "data_df0 = pd.read_csv(Files + \"output_plotdata_HF_ccpvdz_continua.csv\")\n",
        "data_long_enlace = data_df0[(np.round(data_df0[\"ang\"],1)==104.5) & (np.round(data_df0[\"rh2\"],3)==1.808)].copy()\n",
        "r_bhor_angstrom =0.529177\n",
        "\n",
        "x_arange = pd.DataFrame()\n",
        "x_arange['rh1'] =np.arange(0.8, 2.8, 0.01)\n",
        "x_arange['rh2'] =1.808\n",
        "x_arange['ang']= 104.5\n",
        "x_arange['pred']= np.nan\n",
        "converter = spk.data.AtomsConverter(device=device)\n",
        "for index, row in x_arange.iterrows():\n",
        "  r1= row[\"rh1\"]*r_bhor_angstrom\n",
        "  r2= row[\"rh2\"]*r_bhor_angstrom\n",
        "  seno = math.sin(row[\"ang\"]*math.pi/180/2)\n",
        "  coseno = math.cos(row[\"ang\"]*math.pi/180/2)\n",
        "  r1x= r1*coseno\n",
        "  r2x= r2*coseno\n",
        "  r1y= r1*seno\n",
        "  r2y= -r2*seno\n",
        "  at= Atoms('OH2', positions=[(0, 0, 0), (r1x, r1y, 0),(r2x, r2y, 0)])\n",
        "  inputs = converter(at)\n",
        "  pred = best_model(inputs)\n",
        "  row['pred'] = pred['energy'].detach().cpu().numpy()[0][0]\n",
        "\n",
        "print(x_arange.head(5))\n",
        "\n",
        "fig, ax = plt.subplots(figsize=(7,5))\n",
        "ax.plot(x_arange['rh1'], x_arange['pred'], 'r-', label='Inferencia',  color='tab:orange')\n",
        "ax.scatter(data_long_enlace['rh1'], data_long_enlace['energia'], label='NwChem')\n",
        "\n",
        "\n",
        "ax.set_title('Energía frente a longitud de enlace rh1', fontsize=15)\n",
        "ax.set_xlabel('Longitud de enlace rh1', fontsize=13)\n",
        "ax.set_ylabel('Energía (Hartrees)', fontsize=13)\n",
        "ax.legend(fontsize=13)\n",
        "plt.show()"
      ],
      "execution_count": 8,
      "outputs": [
        {
          "output_type": "stream",
          "text": [
            "/usr/local/lib/python3.6/dist-packages/ase/atoms.py:972: VisibleDeprecationWarning: Use get_global_number_of_atoms() instead\n",
            "  np.VisibleDeprecationWarning)\n"
          ],
          "name": "stderr"
        },
        {
          "output_type": "stream",
          "text": [
            "    rh1    rh2    ang       pred\n",
            "0  0.80  1.808  104.5 -74.586418\n",
            "1  0.81  1.808  104.5 -74.640884\n",
            "2  0.82  1.808  104.5 -74.693924\n",
            "3  0.83  1.808  104.5 -74.745575\n",
            "4  0.84  1.808  104.5 -74.795807\n"
          ],
          "name": "stdout"
        },
        {
          "output_type": "display_data",
          "data": {
            "image/png": "[encoded data removed]",
            "text/plain": [
              "<Figure size 504x360 with 1 Axes>"
            ]
          },
          "metadata": {
            "tags": [],
            "needs_background": "light"
          }
        }
      ]
    },
    {
      "cell_type": "markdown",
      "metadata": {
        "id": "gs3oiDWy0YsY"
      },
      "source": [
        "# Inferencia - Energía frente al ángulo\n",
        "\n",
        "Fijando las dos distancias de enelace a 1.808"
      ]
    },
    {
      "cell_type": "code",
      "metadata": {
        "id": "OhXynWZDvoCv"
      },
      "source": [
        ""
      ],
      "execution_count": null,
      "outputs": []
    },
    {
      "cell_type": "code",
      "metadata": {
        "id": "qywubO7ulHbJ",
        "colab": {
          "base_uri": "https://localhost:8080/",
          "height": 523
        },
        "outputId": "97826735-18ac-4e73-e960-ea2f94f258b8"
      },
      "source": [
        "data_ang = data_df0[(np.round(data_df0['rh1'],3)==1.808) & (np.round(data_df0['rh2'],3)==1.808)].copy()\n",
        "r_bhor_angstrom =0.529177\n",
        "\n",
        "x_arange = pd.DataFrame()\n",
        "x_arange['ang']= np.arange(95, 115, 0.1)\n",
        "x_arange['rh1'] =1.708\n",
        "x_arange['rh2'] =1.708\n",
        "x_arange['pred']= np.nan\n",
        "converter = spk.data.AtomsConverter(device=device)\n",
        "for index, row in x_arange.iterrows():\n",
        "  r1= row[\"rh1\"]*r_bhor_angstrom\n",
        "  r2= row[\"rh2\"]*r_bhor_angstrom\n",
        "  seno = math.sin(row[\"ang\"]*math.pi/180/2)\n",
        "  coseno = math.cos(row[\"ang\"]*math.pi/180/2)\n",
        "  r1x= r1*coseno\n",
        "  r2x= r2*coseno\n",
        "  r1y= r1*seno\n",
        "  r2y= -r2*seno\n",
        "  at= Atoms('OH2', positions=[(0, 0, 0), (r1x, r1y, 0),(r2x, r2y, 0)])\n",
        "  inputs = converter(at)\n",
        "  pred = best_model(inputs)\n",
        "  row['pred'] = pred['energy'].detach().cpu().numpy()[0][0]\n",
        "\n",
        "print(x_arange.head(5))\n",
        "\n",
        "fig, ax = plt.subplots(figsize=(7,5))\n",
        "ax.plot(x_arange['ang'], x_arange['pred'], label='Inferencia',  color='tab:orange')\n",
        "ax.scatter(data_ang['ang'], data_ang['energia'], label='NwChem')\n",
        "\n",
        "ax.set_title('Energía frente al ángulo', fontsize=15)\n",
        "ax.set_xlabel('Longitud de enlace rh1', fontsize=13)\n",
        "ax.set_ylabel('Energía (Hartrees)', fontsize=13)\n",
        "ax.legend(fontsize=13)\n",
        "plt.show()"
      ],
      "execution_count": 10,
      "outputs": [
        {
          "output_type": "stream",
          "text": [
            "/usr/local/lib/python3.6/dist-packages/ase/atoms.py:972: VisibleDeprecationWarning: Use get_global_number_of_atoms() instead\n",
            "  np.VisibleDeprecationWarning)\n"
          ],
          "name": "stderr"
        },
        {
          "output_type": "stream",
          "text": [
            "    ang    rh1    rh2       pred\n",
            "0  95.0  1.708  1.708 -76.019714\n",
            "1  95.1  1.708  1.708 -76.019768\n",
            "2  95.2  1.708  1.708 -76.019836\n",
            "3  95.3  1.708  1.708 -76.019875\n",
            "4  95.4  1.708  1.708 -76.019943\n"
          ],
          "name": "stdout"
        },
        {
          "output_type": "display_data",
          "data": {
            "image/png": "[encoded data removed]",
            "text/plain": [
              "<Figure size 504x360 with 1 Axes>"
            ]
          },
          "metadata": {
            "tags": [],
            "needs_background": "light"
          }
        }
      ]
    }
  ]
}